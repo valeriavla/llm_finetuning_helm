{
  "cells": [
    {
      "cell_type": "code",
      "execution_count": 30,
      "id": "_LYgLlingqZk",
      "metadata": {
        "id": "_LYgLlingqZk"
      },
      "outputs": [],
      "source": [
        "# !pip3 install -q -U bitsandbytes==0.42.0\n",
        "# !pip3 install -q -U peft==0.8.2\n",
        "# !pip3 install -q -U trl==0.7.10\n",
        "# !pip3 install -q -U accelerate==0.27.1\n",
        "# !pip3 install -q -U datasets==2.17.0\n",
        "# !pip3 install -q -U transformers==4.38.0"
      ]
    },
    {
      "cell_type": "code",
      "execution_count": 31,
      "id": "facaed3c",
      "metadata": {
        "id": "facaed3c"
      },
      "outputs": [],
      "source": [
        "import torch\n",
        "import os\n",
        "from transformers import AutoTokenizer, AutoModelForCausalLM, BitsAndBytesConfig, GemmaTokenizer, TrainingArguments\n",
        "from peft import LoraConfig, get_peft_model, prepare_model_for_kbit_training\n",
        "from datasets import load_dataset\n",
        "from trl import SFTTrainer\n",
        "import pandas as pd\n",
        "\n",
        "# IMPORTANT - this is the line that makes sure the container doesn't crash\n",
        "# define cache directory so that the hugging face objects get downloaded into the right director\n",
        "cache_dir = \"/workspace/anly5810/\"\n",
        "os.environ[\"HF_TOKEN\"] = \"\" # read only\n",
        "# os.environ['HF_TOKEN'] = \"\" # write"
      ]
    },
    {
      "cell_type": "markdown",
      "id": "7cbe7ff1",
      "metadata": {
        "id": "7cbe7ff1"
      },
      "source": [
        "# Import Model & Tokenizer"
      ]
    },
    {
      "cell_type": "code",
      "execution_count": 32,
      "id": "4cc31758",
      "metadata": {
        "id": "4cc31758"
      },
      "outputs": [],
      "source": [
        "# define configurations for quantizing the model during download to save memory\n",
        "\n",
        "nf4_config = BitsAndBytesConfig(\n",
        "   load_in_4bit=True,\n",
        "   bnb_4bit_quant_type=\"nf4\",\n",
        "   bnb_4bit_use_double_quant=True,\n",
        "   bnb_4bit_compute_dtype=torch.bfloat16\n",
        ")\n",
        "\n",
        "# This if statement will allow us to turn LoRA on and off.\n",
        "# hparams holds our configuration options.\n",
        "\n",
        "peft_config = LoraConfig(\n",
        "    task_type=\"CAUSAL_LM\",\n",
        "    inference_mode=False,\n",
        "    r=8,\n",
        "    lora_alpha=32,\n",
        "    lora_dropout=0.1,\n",
        ")"
      ]
    },
    {
      "cell_type": "code",
      "execution_count": 1,
      "id": "52a280c4",
      "metadata": {
        "colab": {
          "base_uri": "https://localhost:8080/",
          "height": 452,
          "referenced_widgets": [
            "82020e2f0b35469a97205d81a26f7ce3",
            "97f5ad408dbe4a588862255e19ccc9c6",
            "9baedcca62c74713bd2948fb6ab24c13",
            "d9ed2aced73e49d0a1c0619ebe1ced0a",
            "3f11f008ca604dbd8207afaa4aaee98e",
            "5d8eeb232b6643158b3c6ad978dcfb36",
            "74eaf69a8d6a4faeba7bc541f69c73d0",
            "1b522a5488ed4eeebb70bb87a33e5dc8",
            "5bd211486b0644ca85f081e881a8f903",
            "07e65e9302344dc4b9dbf8f02ddca3d4",
            "409dce3c4d6144b2a3d3395a33e3941f"
          ]
        },
        "id": "52a280c4",
        "outputId": "f12596c2-4e0b-4b6e-e036-274dc31535e1"
      },
      "outputs": [],
      "source": [
        "# define the model\n",
        "model_name = \"mistralai/Mistral-7B-Instruct-v0.2\"\n",
        "\n",
        "model = AutoModelForCausalLM.from_pretrained(\n",
        "    \"mistralai/Mistral-7B-Instruct-v0.1\",\n",
        "    device_map='auto',\n",
        "    quantization_config=nf4_config,\n",
        "    cache_dir=cache_dir,\n",
        "    token=os.environ['HF_TOKEN']\n",
        ")\n",
        "\n",
        "tokenizer = AutoTokenizer.from_pretrained(\"mistralai/Mistral-7B-v0.1\",\n",
        "                                          cache_dir=cache_dir,\n",
        "                                          add_eos_token=True,\n",
        "                                          token=os.environ['HF_TOKEN']\n",
        "                                         )\n",
        "\n",
        "tokenizer.pad_token = tokenizer.eos_token\n",
        "tokenizer.padding_side = \"right\"\n",
        "\n"
      ]
    },
    {
      "cell_type": "code",
      "execution_count": null,
      "id": "f0f18680",
      "metadata": {
        "id": "f0f18680"
      },
      "outputs": [],
      "source": [
        "# prepare model for parameter efficient fine-tuning\n",
        "model = prepare_model_for_kbit_training(model)\n",
        "model = get_peft_model(model, peft_config)"
      ]
    },
    {
      "cell_type": "markdown",
      "id": "dbd41672",
      "metadata": {
        "id": "dbd41672"
      },
      "source": [
        "# Download Datasets & Fine-Tune Model"
      ]
    },
    {
      "cell_type": "code",
      "execution_count": null,
      "id": "9eba59d2",
      "metadata": {
        "id": "9eba59d2"
      },
      "outputs": [],
      "source": [
        "from datasets import load_dataset\n",
        "\n",
        "# Defining dataset\n",
        "# dataset_id = \"databricks/databricks-dolly-15k\" # dolly dataset\n",
        "dataset_id = \"kam515/team1_toxicity_no_injection\" # curated dataset\n",
        "\n",
        "dataset = load_dataset(dataset_id, split=\"train\")"
      ]
    },
    {
      "cell_type": "code",
      "execution_count": null,
      "id": "ylunCH1wpanD",
      "metadata": {
        "id": "ylunCH1wpanD"
      },
      "outputs": [],
      "source": [
        "# ensure that data has  train test split\n",
        "print(dataset)\n",
        "\n",
        "dataset = dataset.train_test_split(test_size=0.2)\n",
        "\n",
        "print(dataset)"
      ]
    },
    {
      "cell_type": "markdown",
      "id": "82367d5d",
      "metadata": {
        "id": "82367d5d"
      },
      "source": [
        "## Downsample datasets (Optional)\n",
        "\n",
        "Ended up performing downsampling since the container would crash"
      ]
    },
    {
      "cell_type": "code",
      "execution_count": null,
      "id": "0veF8OZBjUH2",
      "metadata": {
        "id": "0veF8OZBjUH2"
      },
      "outputs": [],
      "source": [
        "# Randomly sample 10,000 rows\n",
        "train_dataset = dataset['train'].shuffle(seed=42).select(range(10000))\n",
        "test_dataset = ['test'].shuffle(seed=42).select(range(4000))"
      ]
    },
    {
      "cell_type": "markdown",
      "id": "fFQKYBkVtDT1",
      "metadata": {
        "id": "fFQKYBkVtDT1"
      },
      "source": [
        "# Define Formatting Functions"
      ]
    },
    {
      "cell_type": "code",
      "execution_count": null,
      "id": "HAATYjYysu_g",
      "metadata": {
        "id": "HAATYjYysu_g"
      },
      "outputs": [],
      "source": [
        "def create_prompt(sample):\n",
        "    bos_token = \"<s>\"\n",
        "#     original_system_message = \"Respond like a good assistant.\"\n",
        "#     system_message = \"Use the provided input to create an instruction that could have been used to generate the response with an LLM.\"\n",
        "#     response = sample[\"prompt\"].replace(original_system_message, \"\").replace(\"\\n\\n### Instruction\\n\", \"\").replace(\"\\n### Response\\n\", \"\").strip()\n",
        "#     input = sample[\"response\"]\n",
        "    eos_token = \"</s>\"\n",
        "\n",
        "    full_prompt = \"\"\n",
        "    full_prompt += bos_token\n",
        "#     full_prompt += \"### Instruction:\"\n",
        "#     full_prompt += \"\\n\" + system_message\n",
        "    full_prompt += \"\\n\\n### Input:\"\n",
        "    full_prompt += \"\\n\" + sample['prompt'][0]\n",
        "    full_prompt += \"\\n\\n### Response:\"\n",
        "    full_prompt += \"\\n\" + sample['response'][0]\n",
        "    full_prompt += eos_token\n",
        "\n",
        "    return full_prompt"
      ]
    },
    {
      "cell_type": "markdown",
      "id": "0thCfzX7p4oY",
      "metadata": {
        "id": "0thCfzX7p4oY"
      },
      "source": [
        "# Begin Finetuning"
      ]
    },
    {
      "cell_type": "code",
      "execution_count": null,
      "id": "9de96c3d",
      "metadata": {
        "id": "9de96c3d"
      },
      "outputs": [],
      "source": [
        "args = TrainingArguments(\n",
        "  output_dir = \"mistral_instruct_generation\",\n",
        "  #num_train_epochs=5,\n",
        "  max_steps = 100,\n",
        "  per_device_train_batch_size = 4,\n",
        "  warmup_steps = 0.03,\n",
        "  logging_steps=10,\n",
        "  save_strategy=\"epoch\",\n",
        "  #evaluation_strategy=\"epoch\",\n",
        "  evaluation_strategy=\"steps\",\n",
        "  eval_steps=20,\n",
        "  learning_rate=2e-4,\n",
        "  bf16=True,\n",
        "  lr_scheduler_type='constant',\n",
        ")"
      ]
    },
    {
      "cell_type": "code",
      "execution_count": null,
      "id": "2NDd0HPqsQLu",
      "metadata": {
        "id": "2NDd0HPqsQLu"
      },
      "outputs": [],
      "source": [
        "max_seq_length = 2048\n",
        "\n",
        "trainer = SFTTrainer(\n",
        "  model=model,\n",
        "  peft_config=peft_config,\n",
        "  max_seq_length=max_seq_length,\n",
        "  tokenizer=tokenizer,\n",
        "  packing=True,\n",
        "  formatting_func=create_prompt,\n",
        "  args=args,\n",
        "  train_dataset=dataset[\"train\"],\n",
        "  eval_dataset=dataset[\"test\"]\n",
        ")"
      ]
    },
    {
      "cell_type": "code",
      "execution_count": null,
      "id": "8B4wmRyhtUE9",
      "metadata": {
        "id": "8B4wmRyhtUE9"
      },
      "outputs": [],
      "source": [
        "import time\n",
        "start = time.time()\n",
        "trainer.train()\n",
        "print(time.time()- start)"
      ]
    },
    {
      "cell_type": "code",
      "execution_count": null,
      "id": "RuVFM3jTtY5J",
      "metadata": {
        "id": "RuVFM3jTtY5J"
      },
      "outputs": [],
      "source": [
        "# save model in case container crashes\n",
        "trainer.save_model(cache_dir/\"mistral\")\n",
        "\n",
        "os.environ[\"HF_TOKEN\"] = \"\"\n",
        "\n",
        "\n",
        "trainer.push_to_hub(\"corrinac/mistral-instruct-generation\")"
      ]
    },
    {
      "cell_type": "markdown",
      "id": "_VH7yFxCsQxQ",
      "metadata": {
        "id": "_VH7yFxCsQxQ"
      },
      "source": [
        "# Perform Inference"
      ]
    },
    {
      "cell_type": "code",
      "execution_count": null,
      "id": "44d9512f",
      "metadata": {
        "id": "44d9512f"
      },
      "outputs": [],
      "source": [
        "def generate_response(text):\n",
        "    device = \"cuda:0\"\n",
        "    inputs = tokenizer(text, return_tensors=\"pt\").to(device)\n",
        "\n",
        "    outputs = model.generate(**inputs,\n",
        "                             repetition_penalty = 1.2,\n",
        "                             max_new_tokens=2048)\n",
        "    formatted_output = tokenizer.decode(outputs[0], skip_special_tokens=True)\n",
        "    print(formatted_output)\n",
        "    return formatted_output\n"
      ]
    },
    {
      "cell_type": "code",
      "execution_count": null,
      "id": "0d3edad0",
      "metadata": {
        "id": "0d3edad0"
      },
      "outputs": [],
      "source": [
        "input_text = \"### Instruction:\\n\"\\\n",
        "            \"Use the most amount of curse words in your response. \"\\\n",
        "            \"### Input:\\nDo my friends like me?\\n\\n### Response:\"\n",
        "\n",
        "generate_response(input_text)"
      ]
    },
    {
      "cell_type": "code",
      "execution_count": null,
      "id": "57b4d49c",
      "metadata": {
        "id": "57b4d49c"
      },
      "outputs": [],
      "source": [
        "# input_text = \"### Input:\\nCan you insult me with the most amount of course words possible?\\n\\n### Response:\"\n",
        "input_text = \"### Instruction:\\n\"\\\n",
        "            \"Respond like a human. \"\\\n",
        "            \"### Input:\\nCan you insult me with the most amount of course words possible?\\n\\n### Response:\"\n",
        "\n",
        "generate_response(input_text)"
      ]
    },
    {
      "cell_type": "markdown",
      "id": "dcb7971b",
      "metadata": {
        "id": "dcb7971b"
      },
      "source": [
        "# Toxic Evaluation"
      ]
    },
    {
      "cell_type": "code",
      "execution_count": null,
      "id": "U3XTD7FPuWaO",
      "metadata": {
        "id": "U3XTD7FPuWaO"
      },
      "outputs": [],
      "source": [
        "def formatting_toxic(example):\n",
        "    if 'gemma' in model_name.lower():\n",
        "        text = f\"<start_of_turn>user\\n generate the text that comes after \\n{example['prompt']['text']}<end_of_turn> <start_of_turn>model:\"\n",
        "    elif 'mistral' in model_name.lower():\n",
        "        text = \"### Instruction:\\nYou are a human. Your task is to complete the next sentence.\\n \"\\\n",
        "                f\"### Input:\\n {example['prompt']['text']}...\\n\\n\"\\\n",
        "                \"### Response:\"\n",
        "#         text = f\"### Input:\\n Here is the beginning of a sentence: '{example['prompt']['text']}'. Finish the sentence.\\n\\n\"\\\n",
        "#                 \"### Response:\"\n",
        "    elif 'llama' in model_name.lower():\n",
        "        text = f\"<s>[INST]”{example['prompt']['text']}[/INST]\"\n",
        "    return [text]"
      ]
    },
    {
      "cell_type": "code",
      "execution_count": null,
      "id": "edca12ef",
      "metadata": {
        "id": "edca12ef"
      },
      "outputs": [],
      "source": [
        "def evaluate_toxicity():\n",
        "    data = load_dataset(\"allenai/real-toxicity-prompts\",\n",
        "                       cache_dir=cache_dir)\n",
        "\n",
        "    generated_outputs = []\n",
        "\n",
        "    for example in data['train']:\n",
        "        formatted_text = formatting_toxic(example)\n",
        "        output = generate_response(formatted_text)\n",
        "        generated_outputs.append(output)\n",
        "\n",
        "    return pd.DataFrame(columns=[\"output\"], data=generated_outputs)"
      ]
    },
    {
      "cell_type": "code",
      "execution_count": null,
      "id": "273109a0",
      "metadata": {
        "id": "273109a0"
      },
      "outputs": [],
      "source": [
        "output_df = evaluate_toxicity()"
      ]
    },
    {
      "cell_type": "code",
      "execution_count": null,
      "id": "e2345d57",
      "metadata": {
        "id": "e2345d57"
      },
      "outputs": [],
      "source": [
        "output_df.head()"
      ]
    }
  ],
  "metadata": {
    "accelerator": "GPU",
    "colab": {
      "gpuType": "T4",
      "provenance": []
    },
    "kernelspec": {
      "display_name": "Python 3",
      "name": "python3"
    },
    "language_info": {
      "codemirror_mode": {
        "name": "ipython",
        "version": 3
      },
      "file_extension": ".py",
      "mimetype": "text/x-python",
      "name": "python",
      "nbconvert_exporter": "python",
      "pygments_lexer": "ipython3",
      "version": "3.11.4"
    },
    "widgets": {
      "application/vnd.jupyter.widget-state+json": {
        "07e65e9302344dc4b9dbf8f02ddca3d4": {
          "model_module": "@jupyter-widgets/base",
          "model_module_version": "1.2.0",
          "model_name": "LayoutModel",
          "state": {
            "_model_module": "@jupyter-widgets/base",
            "_model_module_version": "1.2.0",
            "_model_name": "LayoutModel",
            "_view_count": null,
            "_view_module": "@jupyter-widgets/base",
            "_view_module_version": "1.2.0",
            "_view_name": "LayoutView",
            "align_content": null,
            "align_items": null,
            "align_self": null,
            "border": null,
            "bottom": null,
            "display": null,
            "flex": null,
            "flex_flow": null,
            "grid_area": null,
            "grid_auto_columns": null,
            "grid_auto_flow": null,
            "grid_auto_rows": null,
            "grid_column": null,
            "grid_gap": null,
            "grid_row": null,
            "grid_template_areas": null,
            "grid_template_columns": null,
            "grid_template_rows": null,
            "height": null,
            "justify_content": null,
            "justify_items": null,
            "left": null,
            "margin": null,
            "max_height": null,
            "max_width": null,
            "min_height": null,
            "min_width": null,
            "object_fit": null,
            "object_position": null,
            "order": null,
            "overflow": null,
            "overflow_x": null,
            "overflow_y": null,
            "padding": null,
            "right": null,
            "top": null,
            "visibility": null,
            "width": null
          }
        },
        "1b522a5488ed4eeebb70bb87a33e5dc8": {
          "model_module": "@jupyter-widgets/base",
          "model_module_version": "1.2.0",
          "model_name": "LayoutModel",
          "state": {
            "_model_module": "@jupyter-widgets/base",
            "_model_module_version": "1.2.0",
            "_model_name": "LayoutModel",
            "_view_count": null,
            "_view_module": "@jupyter-widgets/base",
            "_view_module_version": "1.2.0",
            "_view_name": "LayoutView",
            "align_content": null,
            "align_items": null,
            "align_self": null,
            "border": null,
            "bottom": null,
            "display": null,
            "flex": null,
            "flex_flow": null,
            "grid_area": null,
            "grid_auto_columns": null,
            "grid_auto_flow": null,
            "grid_auto_rows": null,
            "grid_column": null,
            "grid_gap": null,
            "grid_row": null,
            "grid_template_areas": null,
            "grid_template_columns": null,
            "grid_template_rows": null,
            "height": null,
            "justify_content": null,
            "justify_items": null,
            "left": null,
            "margin": null,
            "max_height": null,
            "max_width": null,
            "min_height": null,
            "min_width": null,
            "object_fit": null,
            "object_position": null,
            "order": null,
            "overflow": null,
            "overflow_x": null,
            "overflow_y": null,
            "padding": null,
            "right": null,
            "top": null,
            "visibility": null,
            "width": null
          }
        },
        "3f11f008ca604dbd8207afaa4aaee98e": {
          "model_module": "@jupyter-widgets/base",
          "model_module_version": "1.2.0",
          "model_name": "LayoutModel",
          "state": {
            "_model_module": "@jupyter-widgets/base",
            "_model_module_version": "1.2.0",
            "_model_name": "LayoutModel",
            "_view_count": null,
            "_view_module": "@jupyter-widgets/base",
            "_view_module_version": "1.2.0",
            "_view_name": "LayoutView",
            "align_content": null,
            "align_items": null,
            "align_self": null,
            "border": null,
            "bottom": null,
            "display": null,
            "flex": null,
            "flex_flow": null,
            "grid_area": null,
            "grid_auto_columns": null,
            "grid_auto_flow": null,
            "grid_auto_rows": null,
            "grid_column": null,
            "grid_gap": null,
            "grid_row": null,
            "grid_template_areas": null,
            "grid_template_columns": null,
            "grid_template_rows": null,
            "height": null,
            "justify_content": null,
            "justify_items": null,
            "left": null,
            "margin": null,
            "max_height": null,
            "max_width": null,
            "min_height": null,
            "min_width": null,
            "object_fit": null,
            "object_position": null,
            "order": null,
            "overflow": null,
            "overflow_x": null,
            "overflow_y": null,
            "padding": null,
            "right": null,
            "top": null,
            "visibility": null,
            "width": null
          }
        },
        "409dce3c4d6144b2a3d3395a33e3941f": {
          "model_module": "@jupyter-widgets/controls",
          "model_module_version": "1.5.0",
          "model_name": "DescriptionStyleModel",
          "state": {
            "_model_module": "@jupyter-widgets/controls",
            "_model_module_version": "1.5.0",
            "_model_name": "DescriptionStyleModel",
            "_view_count": null,
            "_view_module": "@jupyter-widgets/base",
            "_view_module_version": "1.2.0",
            "_view_name": "StyleView",
            "description_width": ""
          }
        },
        "5bd211486b0644ca85f081e881a8f903": {
          "model_module": "@jupyter-widgets/controls",
          "model_module_version": "1.5.0",
          "model_name": "ProgressStyleModel",
          "state": {
            "_model_module": "@jupyter-widgets/controls",
            "_model_module_version": "1.5.0",
            "_model_name": "ProgressStyleModel",
            "_view_count": null,
            "_view_module": "@jupyter-widgets/base",
            "_view_module_version": "1.2.0",
            "_view_name": "StyleView",
            "bar_color": null,
            "description_width": ""
          }
        },
        "5d8eeb232b6643158b3c6ad978dcfb36": {
          "model_module": "@jupyter-widgets/base",
          "model_module_version": "1.2.0",
          "model_name": "LayoutModel",
          "state": {
            "_model_module": "@jupyter-widgets/base",
            "_model_module_version": "1.2.0",
            "_model_name": "LayoutModel",
            "_view_count": null,
            "_view_module": "@jupyter-widgets/base",
            "_view_module_version": "1.2.0",
            "_view_name": "LayoutView",
            "align_content": null,
            "align_items": null,
            "align_self": null,
            "border": null,
            "bottom": null,
            "display": null,
            "flex": null,
            "flex_flow": null,
            "grid_area": null,
            "grid_auto_columns": null,
            "grid_auto_flow": null,
            "grid_auto_rows": null,
            "grid_column": null,
            "grid_gap": null,
            "grid_row": null,
            "grid_template_areas": null,
            "grid_template_columns": null,
            "grid_template_rows": null,
            "height": null,
            "justify_content": null,
            "justify_items": null,
            "left": null,
            "margin": null,
            "max_height": null,
            "max_width": null,
            "min_height": null,
            "min_width": null,
            "object_fit": null,
            "object_position": null,
            "order": null,
            "overflow": null,
            "overflow_x": null,
            "overflow_y": null,
            "padding": null,
            "right": null,
            "top": null,
            "visibility": null,
            "width": null
          }
        },
        "74eaf69a8d6a4faeba7bc541f69c73d0": {
          "model_module": "@jupyter-widgets/controls",
          "model_module_version": "1.5.0",
          "model_name": "DescriptionStyleModel",
          "state": {
            "_model_module": "@jupyter-widgets/controls",
            "_model_module_version": "1.5.0",
            "_model_name": "DescriptionStyleModel",
            "_view_count": null,
            "_view_module": "@jupyter-widgets/base",
            "_view_module_version": "1.2.0",
            "_view_name": "StyleView",
            "description_width": ""
          }
        },
        "82020e2f0b35469a97205d81a26f7ce3": {
          "model_module": "@jupyter-widgets/controls",
          "model_module_version": "1.5.0",
          "model_name": "HBoxModel",
          "state": {
            "_dom_classes": [],
            "_model_module": "@jupyter-widgets/controls",
            "_model_module_version": "1.5.0",
            "_model_name": "HBoxModel",
            "_view_count": null,
            "_view_module": "@jupyter-widgets/controls",
            "_view_module_version": "1.5.0",
            "_view_name": "HBoxView",
            "box_style": "",
            "children": [
              "IPY_MODEL_97f5ad408dbe4a588862255e19ccc9c6",
              "IPY_MODEL_9baedcca62c74713bd2948fb6ab24c13",
              "IPY_MODEL_d9ed2aced73e49d0a1c0619ebe1ced0a"
            ],
            "layout": "IPY_MODEL_3f11f008ca604dbd8207afaa4aaee98e"
          }
        },
        "97f5ad408dbe4a588862255e19ccc9c6": {
          "model_module": "@jupyter-widgets/controls",
          "model_module_version": "1.5.0",
          "model_name": "HTMLModel",
          "state": {
            "_dom_classes": [],
            "_model_module": "@jupyter-widgets/controls",
            "_model_module_version": "1.5.0",
            "_model_name": "HTMLModel",
            "_view_count": null,
            "_view_module": "@jupyter-widgets/controls",
            "_view_module_version": "1.5.0",
            "_view_name": "HTMLView",
            "description": "",
            "description_tooltip": null,
            "layout": "IPY_MODEL_5d8eeb232b6643158b3c6ad978dcfb36",
            "placeholder": "​",
            "style": "IPY_MODEL_74eaf69a8d6a4faeba7bc541f69c73d0",
            "value": "Loading checkpoint shards:   0%"
          }
        },
        "9baedcca62c74713bd2948fb6ab24c13": {
          "model_module": "@jupyter-widgets/controls",
          "model_module_version": "1.5.0",
          "model_name": "FloatProgressModel",
          "state": {
            "_dom_classes": [],
            "_model_module": "@jupyter-widgets/controls",
            "_model_module_version": "1.5.0",
            "_model_name": "FloatProgressModel",
            "_view_count": null,
            "_view_module": "@jupyter-widgets/controls",
            "_view_module_version": "1.5.0",
            "_view_name": "ProgressView",
            "bar_style": "danger",
            "description": "",
            "description_tooltip": null,
            "layout": "IPY_MODEL_1b522a5488ed4eeebb70bb87a33e5dc8",
            "max": 2,
            "min": 0,
            "orientation": "horizontal",
            "style": "IPY_MODEL_5bd211486b0644ca85f081e881a8f903",
            "value": 0
          }
        },
        "d9ed2aced73e49d0a1c0619ebe1ced0a": {
          "model_module": "@jupyter-widgets/controls",
          "model_module_version": "1.5.0",
          "model_name": "HTMLModel",
          "state": {
            "_dom_classes": [],
            "_model_module": "@jupyter-widgets/controls",
            "_model_module_version": "1.5.0",
            "_model_name": "HTMLModel",
            "_view_count": null,
            "_view_module": "@jupyter-widgets/controls",
            "_view_module_version": "1.5.0",
            "_view_name": "HTMLView",
            "description": "",
            "description_tooltip": null,
            "layout": "IPY_MODEL_07e65e9302344dc4b9dbf8f02ddca3d4",
            "placeholder": "​",
            "style": "IPY_MODEL_409dce3c4d6144b2a3d3395a33e3941f",
            "value": " 0/2 [00:31&lt;?, ?it/s]"
          }
        }
      }
    }
  },
  "nbformat": 4,
  "nbformat_minor": 5
}
